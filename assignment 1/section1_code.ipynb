{
 "cells": [
  {
   "cell_type": "markdown",
   "id": "35b48891",
   "metadata": {},
   "source": [
    "adding all libraries"
   ]
  },
  {
   "cell_type": "code",
   "execution_count": null,
   "id": "c42b5700",
   "metadata": {},
   "outputs": [],
   "source": [
    "import os\n",
    "import numpy as np\n",
    "import pandas as pd\n",
    "from PIL import Image"
   ]
  },
  {
   "cell_type": "markdown",
   "id": "4030c8c3",
   "metadata": {},
   "source": [
    "Folder containing PGM files and output to new folder \"images\""
   ]
  },
  {
   "cell_type": "code",
   "execution_count": null,
   "id": "4a74506f",
   "metadata": {},
   "outputs": [],
   "source": [
    "input_folder = \"xclaim\"\n",
    "output_folder = \"images\""
   ]
  },
  {
   "cell_type": "markdown",
   "id": "2894d69a",
   "metadata": {},
   "source": [
    "Creates output folder if it exist then no change"
   ]
  },
  {
   "cell_type": "code",
   "execution_count": null,
   "id": "677b5ff6",
   "metadata": {
    "lines_to_next_cell": 2
   },
   "outputs": [],
   "source": [
    "os.makedirs(output_folder, exist_ok=True)"
   ]
  },
  {
   "cell_type": "markdown",
   "id": "582f839a",
   "metadata": {},
   "source": [
    "#Process for PGM to CSV file\n",
    "1. Open PGM Image\n",
    "2. convert image to numpy array\n",
    "3. Convert pixel values: 0->1, 255->0, others->0 (condition,true,false)\n",
    "4. Save as CSV"
   ]
  },
  {
   "cell_type": "code",
   "execution_count": null,
   "id": "08ff44c6",
   "metadata": {},
   "outputs": [],
   "source": [
    "for filename in os.listdir(input_folder):\n",
    "    if filename.endswith(\".pgm\"):\n",
    "\n",
    "        image_path = os.path.join(input_folder, filename)\n",
    "        img = Image.open(image_path)\n",
    "\n",
    "        img_array = np.array(img)\n",
    "\n",
    "        inverted_array = np.where(img_array == 0, 1, 0)\n",
    "\n",
    "        df = pd.DataFrame(inverted_array)\n",
    "\n",
    "        csv_filename = \"40443486_\" + os.path.splitext(filename)[0] + \".csv\"\n",
    "        df.to_csv(os.path.join(output_folder, csv_filename), index=False, header=False)"
   ]
  },
  {
   "cell_type": "code",
   "execution_count": null,
   "id": "b4484eef",
   "metadata": {},
   "outputs": [],
   "source": [
    "print(\"Conversion completed. CSV files are saved in\", output_folder)"
   ]
  }
 ],
 "metadata": {
  "jupytext": {
   "cell_metadata_filter": "-all",
   "main_language": "python",
   "notebook_metadata_filter": "-all"
  },
  "language_info": {
   "name": "python"
  }
 },
 "nbformat": 4,
 "nbformat_minor": 5
}
