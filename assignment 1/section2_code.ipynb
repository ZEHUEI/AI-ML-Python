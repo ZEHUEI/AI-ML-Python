{
 "cells": [
  {
   "cell_type": "markdown",
   "id": "0f01f0e6",
   "metadata": {},
   "source": [
    "adding all libraries"
   ]
  },
  {
   "cell_type": "code",
   "execution_count": null,
   "id": "a7d62b6b",
   "metadata": {},
   "outputs": [],
   "source": [
    "import os\n",
    "import numpy as np\n",
    "import pandas as pd\n",
    "from scipy.ndimage import label, generate_binary_structure"
   ]
  },
  {
   "cell_type": "markdown",
   "id": "38caeb35",
   "metadata": {},
   "source": [
    "Declare images_folder to images and feature-data as array"
   ]
  },
  {
   "cell_type": "code",
   "execution_count": null,
   "id": "6a13ef45",
   "metadata": {},
   "outputs": [],
   "source": [
    "images_folder = \"./images\""
   ]
  },
  {
   "cell_type": "code",
   "execution_count": null,
   "id": "967a6be5",
   "metadata": {},
   "outputs": [],
   "source": [
    "feature_data = []"
   ]
  },
  {
   "cell_type": "markdown",
   "id": "a9e15f1a",
   "metadata": {},
   "source": [
    "Declare all feature names\n"
   ]
  },
  {
   "cell_type": "code",
   "execution_count": null,
   "id": "3420946d",
   "metadata": {},
   "outputs": [],
   "source": [
    "feature_names = [\n",
    "    \"image_label\", \"index\", \"nr_pix\", \"rows_with_1\", \"cols_with_1\", \"rows_with_3p\", \"cols_with_3p\",\n",
    "    \"aspect_ratio\", \"neigh_1\", \"no_neigh_above\", \"no_neigh_below\", \"no_neigh_left\",\n",
    "    \"no_neigh_right\", \"no_neigh_horiz\", \"no_neigh_vert\", \"connected_areas\", \"eyes\", \"custom\"\n",
    "]\n",
    "# Function to calculate the number of black pixels\n",
    "def calculate_nr_pix(matrix):\n",
    "    return np.sum(matrix)"
   ]
  },
  {
   "cell_type": "code",
   "execution_count": null,
   "id": "a173e038",
   "metadata": {},
   "outputs": [],
   "source": [
    "# Function to calculate the number of rows with exactly 1 black pixel\n",
    "def calculate_rows_with_1(matrix):\n",
    "    return np.sum(np.sum(matrix, axis=1) == 1)"
   ]
  },
  {
   "cell_type": "code",
   "execution_count": null,
   "id": "c4d04038",
   "metadata": {},
   "outputs": [],
   "source": [
    "# Function to calculate the number of columns with exactly 1 black pixel\n",
    "def calculate_cols_with_1(matrix):\n",
    "    return np.sum(np.sum(matrix, axis=0) == 1)"
   ]
  },
  {
   "cell_type": "code",
   "execution_count": null,
   "id": "cc0df6eb",
   "metadata": {},
   "outputs": [],
   "source": [
    "# Function to calculate the number of rows with 3 or more black pixels\n",
    "def calculate_rows_with_3p(matrix):\n",
    "    return np.sum(np.sum(matrix, axis=1) >= 3)"
   ]
  },
  {
   "cell_type": "code",
   "execution_count": null,
   "id": "5c2bcd2d",
   "metadata": {},
   "outputs": [],
   "source": [
    "# Function to calculate the number of columns with 3 or more black pixels\n",
    "def calculate_cols_with_3p(matrix):\n",
    "    return np.sum(np.sum(matrix, axis=0) >= 3)"
   ]
  },
  {
   "cell_type": "code",
   "execution_count": null,
   "id": "02b392a5",
   "metadata": {},
   "outputs": [],
   "source": [
    "# Function to calculate the aspect ratio\n",
    "def calculate_aspect_ratio(matrix):\n",
    "    rows, cols = np.where(matrix == 1)\n",
    "    if len(rows) == 0:\n",
    "        return 0\n",
    "    height = np.max(rows) - np.min(rows) + 1\n",
    "    width = np.max(cols) - np.min(cols) + 1\n",
    "    return width / height if height != 0 else 0"
   ]
  },
  {
   "cell_type": "code",
   "execution_count": null,
   "id": "f4974ac4",
   "metadata": {},
   "outputs": [],
   "source": [
    "# Function to calculate the number of black pixels with only 1 black pixel neighbour\n",
    "def calculate_neigh_1(matrix):\n",
    "    padded_matrix = np.pad(matrix, pad_width=1, mode='constant', constant_values=0)\n",
    "    count = 0\n",
    "    for i in range(1, padded_matrix.shape[0] - 1):\n",
    "        for j in range(1, padded_matrix.shape[1] - 1):\n",
    "            if padded_matrix[i, j] == 1:\n",
    "                neighbours = padded_matrix[i - 1:i + 2, j - 1:j + 2].sum() - 1\n",
    "                if neighbours == 1:\n",
    "                    count += 1\n",
    "    return count"
   ]
  },
  {
   "cell_type": "code",
   "execution_count": null,
   "id": "79213be4",
   "metadata": {},
   "outputs": [],
   "source": [
    "# Function to calculate the number of black pixels with no black pixel neighbours in specific positions\n",
    "def calculate_no_neigh(matrix, positions):\n",
    "    padded_matrix = np.pad(matrix, pad_width=1, mode='constant', constant_values=0)\n",
    "    count = 0\n",
    "    for i in range(1, padded_matrix.shape[0] - 1):\n",
    "        for j in range(1, padded_matrix.shape[1] - 1):\n",
    "            if padded_matrix[i, j] == 1:\n",
    "                has_neighbour = False\n",
    "                for pos in positions:\n",
    "                    if padded_matrix[i + pos[0], j + pos[1]] == 1:\n",
    "                        has_neighbour = True\n",
    "                        break\n",
    "                if not has_neighbour:\n",
    "                    count += 1\n",
    "    return count"
   ]
  },
  {
   "cell_type": "code",
   "execution_count": null,
   "id": "2588f4d6",
   "metadata": {},
   "outputs": [],
   "source": [
    "# Function to calculate the number of connected areas\n",
    "def calculate_connected_areas(matrix):\n",
    "    structure = generate_binary_structure(2, 2)\n",
    "    labeled_matrix, num_features = label(matrix, structure)\n",
    "    return num_features"
   ]
  },
  {
   "cell_type": "code",
   "execution_count": null,
   "id": "742137cc",
   "metadata": {},
   "outputs": [],
   "source": [
    "# Function to calculate the number of eyes (whitespace regions completely surrounded by black pixels)\n",
    "def calculate_eyes(matrix):\n",
    "    padded_matrix = np.pad(matrix, pad_width=1, mode='constant', constant_values=1)\n",
    "    inverted_matrix = 1 - padded_matrix\n",
    "    structure = generate_binary_structure(2, 2)\n",
    "    labeled_matrix, num_features = label(inverted_matrix, structure)\n",
    "    return num_features - 1  # Subtract 1 for the background"
   ]
  },
  {
   "cell_type": "code",
   "execution_count": null,
   "id": "6eb56700",
   "metadata": {},
   "outputs": [],
   "source": [
    "# Function to calculate a custom feature\n",
    "def calculate_custom(matrix):\n",
    "    # Count the number of corners in the image\n",
    "    corners = 0\n",
    "    for i in range(matrix.shape[0] - 1):\n",
    "        for j in range(matrix.shape[1] - 1):\n",
    "            if matrix[i, j] == 1 and matrix[i + 1, j] == 0 and matrix[i, j + 1] == 0:\n",
    "                corners += 1\n",
    "    return corners"
   ]
  },
  {
   "cell_type": "markdown",
   "id": "46643c01",
   "metadata": {},
   "source": [
    "Loop through all images in images folder and using the functions then append to array"
   ]
  },
  {
   "cell_type": "code",
   "execution_count": null,
   "id": "d6cdcf71",
   "metadata": {},
   "outputs": [],
   "source": [
    "for filename in os.listdir(images_folder):\n",
    "    if filename.endswith(\".csv\"):\n",
    "\n",
    "        image_label = filename.split(\"_\")[1]\n",
    "        index = filename.split(\"_\")[2].split(\".\")[0]\n",
    "\n",
    "        matrix = np.loadtxt(os.path.join(images_folder, filename), delimiter=\",\")\n",
    "\n",
    "        nr_pix = calculate_nr_pix(matrix)\n",
    "        rows_with_1 = calculate_rows_with_1(matrix)\n",
    "        cols_with_1 = calculate_cols_with_1(matrix)\n",
    "        rows_with_3p = calculate_rows_with_3p(matrix)\n",
    "        cols_with_3p = calculate_cols_with_3p(matrix)\n",
    "        aspect_ratio = calculate_aspect_ratio(matrix)\n",
    "        neigh_1 = calculate_neigh_1(matrix)\n",
    "        no_neigh_above = calculate_no_neigh(matrix, [(-1, -1), (-1, 0), (-1, 1)])\n",
    "        no_neigh_below = calculate_no_neigh(matrix, [(1, -1), (1, 0), (1, 1)])\n",
    "        no_neigh_left = calculate_no_neigh(matrix, [(-1, -1), (0, -1), (1, -1)])\n",
    "        no_neigh_right = calculate_no_neigh(matrix, [(-1, 1), (0, 1), (1, 1)])\n",
    "        no_neigh_horiz = calculate_no_neigh(matrix, [(0, -1), (0, 1)])\n",
    "        no_neigh_vert = calculate_no_neigh(matrix, [(-1, 0), (1, 0)])\n",
    "        connected_areas = calculate_connected_areas(matrix)\n",
    "        eyes = calculate_eyes(matrix)\n",
    "        custom = calculate_custom(matrix)\n",
    "\n",
    "        feature_data.append([\n",
    "            image_label, index, nr_pix, rows_with_1, cols_with_1, rows_with_3p, cols_with_3p,\n",
    "            aspect_ratio, neigh_1, no_neigh_above, no_neigh_below, no_neigh_left,\n",
    "            no_neigh_right, no_neigh_horiz, no_neigh_vert, connected_areas, eyes, custom\n",
    "        ])"
   ]
  },
  {
   "cell_type": "code",
   "execution_count": null,
   "id": "3441d685",
   "metadata": {},
   "outputs": [],
   "source": [
    "features_df = pd.DataFrame(feature_data, columns=feature_names)"
   ]
  },
  {
   "cell_type": "code",
   "execution_count": null,
   "id": "8c0223ce",
   "metadata": {},
   "outputs": [],
   "source": [
    "features_df = features_df.sort_values(by=[\"image_label\", \"index\"])"
   ]
  },
  {
   "cell_type": "code",
   "execution_count": null,
   "id": "7f548613",
   "metadata": {},
   "outputs": [],
   "source": [
    "features_df.to_csv(\"40443486_features.csv\", index=False)"
   ]
  },
  {
   "cell_type": "code",
   "execution_count": null,
   "id": "1884304d",
   "metadata": {},
   "outputs": [],
   "source": [
    "print(\"Feature extraction complete. Features saved to 40443486_features.csv\")"
   ]
  }
 ],
 "metadata": {
  "jupytext": {
   "cell_metadata_filter": "-all",
   "main_language": "python",
   "notebook_metadata_filter": "-all"
  },
  "language_info": {
   "name": "python"
  }
 },
 "nbformat": 4,
 "nbformat_minor": 5
}
