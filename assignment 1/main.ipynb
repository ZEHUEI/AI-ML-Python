{
 "cells": [
  {
   "cell_type": "code",
   "execution_count": null,
   "id": "24265ce3",
   "metadata": {},
   "outputs": [],
   "source": [
    "import os\n",
    "import numpy as np\n",
    "import pandas as pd\n",
    "from PIL import Image"
   ]
  },
  {
   "cell_type": "code",
   "execution_count": null,
   "id": "55d1f018",
   "metadata": {},
   "outputs": [],
   "source": [
    "# Folder containing PGM images\n",
    "input_folder = \"xclaim\"\n",
    "output_folder = \"images\""
   ]
  },
  {
   "cell_type": "code",
   "execution_count": null,
   "id": "35890eed",
   "metadata": {},
   "outputs": [],
   "source": [
    "# Create output folder if it doesn't exist\n",
    "os.makedirs(output_folder, exist_ok=True)"
   ]
  },
  {
   "cell_type": "code",
   "execution_count": null,
   "id": "39c761fa",
   "metadata": {},
   "outputs": [],
   "source": [
    "# Process each PGM file in the folder\n",
    "for filename in os.listdir(input_folder):\n",
    "    if filename.endswith(\".pgm\"):\n",
    "        # Open the PGM image\n",
    "        image_path = os.path.join(input_folder, filename)\n",
    "        img = Image.open(image_path)\n",
    "\n",
    "        # Convert image to numpy array\n",
    "        img_array = np.array(img)\n",
    "\n",
    "        # Convert pixel values: 0 -> 1, 255 -> 0, others remain scaled\n",
    "        inverted_array = np.where(img_array == 0, 1, 0)\n",
    "\n",
    "        # Convert to DataFrame\n",
    "        df = pd.DataFrame(inverted_array)\n",
    "\n",
    "        # Save as CSV\n",
    "        csv_filename = \"40443486_\" + os.path.splitext(filename)[0] + \".csv\"\n",
    "        df.to_csv(os.path.join(output_folder, csv_filename), index=False, header=False)"
   ]
  },
  {
   "cell_type": "code",
   "execution_count": null,
   "id": "78037c9e",
   "metadata": {},
   "outputs": [],
   "source": [
    "print(\"Conversion completed. CSV files are saved in\", output_folder)"
   ]
  }
 ],
 "metadata": {
  "jupytext": {
   "cell_metadata_filter": "-all",
   "main_language": "python",
   "notebook_metadata_filter": "-all"
  }
 },
 "nbformat": 4,
 "nbformat_minor": 5
}
