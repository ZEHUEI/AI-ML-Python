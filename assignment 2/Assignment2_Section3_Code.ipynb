{
 "cells": [
  {
   "cell_type": "markdown",
   "id": "9078d49d",
   "metadata": {},
   "source": [
    "Nt is [25,75,125,175,225,275,325,375] // Np = {2,4,6,8}\n",
    "5 fold cross validation"
   ]
  },
  {
   "cell_type": "code",
   "execution_count": null,
   "id": "36266d07",
   "metadata": {},
   "outputs": [],
   "source": [
    "import pandas as pd\n",
    "import numpy as np\n",
    "import matplotlib.pyplot as plt\n",
    "import seaborn as sns\n",
    "from sklearn.metrics import accuracy_score\n",
    "from sklearn.ensemble import RandomForestClassifier\n",
    "from sklearn.model_selection import KFold"
   ]
  },
  {
   "cell_type": "code",
   "execution_count": null,
   "id": "c569f046",
   "metadata": {},
   "outputs": [],
   "source": [
    "csv_file = 'all_features.csv'\n",
    "df = pd.read_csv(csv_file, sep='\\t', header=None)"
   ]
  },
  {
   "cell_type": "code",
   "execution_count": null,
   "id": "d4a9ec1a",
   "metadata": {
    "lines_to_next_cell": 2
   },
   "outputs": [],
   "source": [
    "nt_values= [25,75,125,175,225,275,325,375]\n",
    "np_values= [2,4,6,8]"
   ]
  },
  {
   "cell_type": "code",
   "execution_count": null,
   "id": "e6fe4f25",
   "metadata": {},
   "outputs": [],
   "source": [
    "X = df.iloc[:, 1:-1]\n",
    "y = df.iloc[:, -1]"
   ]
  },
  {
   "cell_type": "code",
   "execution_count": null,
   "id": "488ad68e",
   "metadata": {},
   "outputs": [],
   "source": [
    "kfolds =5\n",
    "kf = KFold(n_splits=kfolds,shuffle=True,random_state=42)"
   ]
  },
  {
   "cell_type": "code",
   "execution_count": null,
   "id": "dd02a36e",
   "metadata": {},
   "outputs": [],
   "source": [
    "results = []"
   ]
  },
  {
   "cell_type": "code",
   "execution_count": null,
   "id": "006b82c7",
   "metadata": {},
   "outputs": [],
   "source": [
    "for nt in nt_values:\n",
    "    print(nt)\n",
    "    for np_ in np_values:\n",
    "        print(np_)\n",
    "        fold_accuracies = []\n",
    "\n",
    "        rf = RandomForestClassifier(n_estimators=nt, max_features=np_, random_state=42)\n",
    "\n",
    "        for train_index, test_index in kf.split(X):\n",
    "            X_train = X.iloc[train_index]\n",
    "            X_test = X.iloc[test_index]\n",
    "            y_train = y.iloc[train_index]\n",
    "            y_test = y.iloc[test_index]\n",
    "\n",
    "            rf.fit(X_train, y_train)\n",
    "            y_pred = rf.predict(X_test)\n",
    "\n",
    "            accuracy = accuracy_score(y_test, y_pred)\n",
    "            fold_accuracies.append(accuracy)\n",
    "\n",
    "        mean_acc = np.mean(fold_accuracies)\n",
    "        results.append({'nt': nt, 'np': np_, 'accuracy': mean_acc})\n",
    "\n",
    "        print(f\"Mean accuracy for nt={nt}, np={np_}: {mean_acc:.4f}\")"
   ]
  },
  {
   "cell_type": "code",
   "execution_count": null,
   "id": "60491e22",
   "metadata": {},
   "outputs": [],
   "source": [
    "best_result = max(results, key=lambda x: x['accuracy'])\n",
    "print('\\nBest accuracy and its corresponding nt and np:')\n",
    "print(f\"Best accuracy: {best_result['accuracy']:.4f} for nt={best_result['nt']} and np={best_result['np']}\")"
   ]
  },
  {
   "cell_type": "code",
   "execution_count": null,
   "id": "0cfe2df8",
   "metadata": {},
   "outputs": [],
   "source": [
    "results_df = pd.DataFrame(results)"
   ]
  },
  {
   "cell_type": "code",
   "execution_count": null,
   "id": "6e6e399f",
   "metadata": {},
   "outputs": [],
   "source": [
    "heatmap_data = results_df.pivot(index='np', columns='nt', values='accuracy')"
   ]
  },
  {
   "cell_type": "code",
   "execution_count": null,
   "id": "9454077f",
   "metadata": {},
   "outputs": [],
   "source": [
    "plt.figure(figsize=(12, 6))\n",
    "sns.heatmap(heatmap_data, annot=True, fmt=\".3f\", cmap=\"viridis\")\n",
    "plt.title(\"Random Forest CV Accuracy Heatmap\")\n",
    "plt.xlabel(\"Number of Trees (Nt)\")\n",
    "plt.ylabel(\"Number of Predictors (Np)\")\n",
    "plt.tight_layout()\n",
    "plt.show()\n",
    "########################################################################################################################\n",
    "# Best accuracy and its corresponding nt and np:\n",
    "# Best accuracy: 0.7885 for nt=275 and np=8\n",
    "# Yes, my model in 3.1 perform better than chance as it have accuracy of 0.7885\n",
    "# whereas chance is only 0.7839. My model is 0.45% better than chance"
   ]
  },
  {
   "cell_type": "code",
   "execution_count": null,
   "id": "49d44b94",
   "metadata": {
    "lines_to_next_cell": 2
   },
   "outputs": [],
   "source": [
    "import pandas as pd\n",
    "import numpy as np\n",
    "from scipy.stats import ttest_1samp\n",
    "from sklearn.metrics import accuracy_score\n",
    "from sklearn.ensemble import RandomForestClassifier\n",
    "from sklearn.model_selection import KFold\n",
    "import statistics"
   ]
  },
  {
   "cell_type": "code",
   "execution_count": null,
   "id": "34e95f10",
   "metadata": {},
   "outputs": [],
   "source": [
    "csv_file = 'all_features.csv'\n",
    "df = pd.read_csv(csv_file, sep='\\t', header=None)"
   ]
  },
  {
   "cell_type": "code",
   "execution_count": null,
   "id": "1296ac92",
   "metadata": {
    "lines_to_next_cell": 2
   },
   "outputs": [],
   "source": [
    "nt_values= [275]\n",
    "np_values= [8]"
   ]
  },
  {
   "cell_type": "code",
   "execution_count": null,
   "id": "dd3f955b",
   "metadata": {},
   "outputs": [],
   "source": [
    "X = df.iloc[:, 1:-1]\n",
    "y = df.iloc[:, -1]"
   ]
  },
  {
   "cell_type": "code",
   "execution_count": null,
   "id": "0485e7b4",
   "metadata": {},
   "outputs": [],
   "source": [
    "kfolds =5\n",
    "kf = KFold(n_splits=kfolds,shuffle=True,random_state=42)"
   ]
  },
  {
   "cell_type": "code",
   "execution_count": null,
   "id": "01fec132",
   "metadata": {},
   "outputs": [],
   "source": [
    "# Perform grid search\n",
    "results = []"
   ]
  },
  {
   "cell_type": "code",
   "execution_count": null,
   "id": "d15acbe8",
   "metadata": {},
   "outputs": [],
   "source": [
    "for nt in nt_values:\n",
    "    print(nt)\n",
    "    for np_ in np_values:\n",
    "        print(np_)\n",
    "        fold_accuracies = []\n",
    "\n",
    "        for i in [1,2,3,4,5,6,7,8,9,10,11,12,13,14,15]:\n",
    "            random_state = np.random.randint(0, 10000)\n",
    "            rf = RandomForestClassifier(n_estimators=nt, max_features=np_, random_state=random_state)\n",
    "            print(i)\n",
    "            for train_index, test_index in kf.split(X):\n",
    "                X_train = X.iloc[train_index]\n",
    "                X_test = X.iloc[test_index]\n",
    "                y_train = y.iloc[train_index]\n",
    "                y_test = y.iloc[test_index]\n",
    "\n",
    "                rf.fit(X_train, y_train)\n",
    "                y_pred = rf.predict(X_test)\n",
    "\n",
    "                accuracy = accuracy_score(y_test, y_pred)\n",
    "                fold_accuracies.append(accuracy)\n",
    "\n",
    "            mean_acc = np.mean(fold_accuracies)\n",
    "\n",
    "            results.append({'nt': nt, 'np': np_, 'accuracy': mean_acc})\n",
    "\n",
    "            print(f\"Mean accuracy for nt={nt}, np={np_}: {mean_acc:.4f}\")"
   ]
  },
  {
   "cell_type": "code",
   "execution_count": null,
   "id": "0a34b38f",
   "metadata": {},
   "outputs": [],
   "source": [
    "Rmean = np.mean(fold_accuracies)\n",
    "STD = statistics.stdev(fold_accuracies)\n",
    "t_stat, p_value = ttest_1samp(fold_accuracies,popmean= 0.7839)\n",
    "print(\"Mean of total fold-accuracy= \",Rmean, \"\\n Standard Deviation= \",STD,\"\\n t-value= \",t_stat,\"\\n P-value= \",p_value)"
   ]
  }
 ],
 "metadata": {
  "jupytext": {
   "cell_metadata_filter": "-all",
   "main_language": "python",
   "notebook_metadata_filter": "-all"
  }
 },
 "nbformat": 4,
 "nbformat_minor": 5
}
